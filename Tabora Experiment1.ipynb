{
 "cells": [
  {
   "cell_type": "markdown",
   "id": "f216acd6-ce55-41fa-a4bd-81b9a919083c",
   "metadata": {},
   "source": [
    "**EXPERIMENT 1:**\n",
    "**INTRODUCTION TO PYTHON PROGRAMMING**"
   ]
  },
  {
   "cell_type": "markdown",
   "id": "361270db-2467-4ce1-8ea9-e730f4671696",
   "metadata": {},
   "source": [
    "**Tabora, Carl Johnsen \n",
    "2ECE-C**\n"
   ]
  },
  {
   "cell_type": "markdown",
   "id": "48e05385-ea37-4ef2-a196-4d9944d8ab9d",
   "metadata": {},
   "source": [
    "***ALPHABET SOUP PROBLEM***"
   ]
  },
  {
   "cell_type": "code",
   "execution_count": 51,
   "id": "55979ac1-fb44-442f-bca0-5c6812ff239f",
   "metadata": {},
   "outputs": [
    {
     "data": {
      "text/plain": [
       "'ehllo'"
      ]
     },
     "execution_count": 51,
     "metadata": {},
     "output_type": "execute_result"
    }
   ],
   "source": [
    "def sort(s):\n",
    "    # Convert the string to a list of characters, sort them, and then arrange them alphabetically.\n",
    "    s = ''.join(filter(str.isalpha, s))\n",
    "    sorted_string = ''.join(sorted(s))\n",
    "    return sorted_string\n",
    "\n",
    "# Example \"hello\":\n",
    "alphabet_soup = \"hello\"\n",
    "sort(alphabet_soup)"
   ]
  },
  {
   "cell_type": "code",
   "execution_count": 53,
   "id": "3c544ecf-f47f-4f9b-9133-9c2a0fe5973d",
   "metadata": {},
   "outputs": [
    {
     "data": {
      "text/plain": [
       "'acehkr'"
      ]
     },
     "execution_count": 53,
     "metadata": {},
     "output_type": "execute_result"
    }
   ],
   "source": [
    "def sort(s):\n",
    "    # Convert the string to a list of characters, sort them, and then arrange them alphabetically.\n",
    "    s = ''.join(filter(str.isalpha, s))\n",
    "    sorted_string = ''.join(sorted(s))\n",
    "    return sorted_string\n",
    "\n",
    "# Example \"hacker\":\n",
    "alphabet_soup = \"hacker\"\n",
    "sort(alphabet_soup)"
   ]
  },
  {
   "cell_type": "markdown",
   "id": "66fa460c-7d3d-4b42-a0f1-42780cf9736d",
   "metadata": {},
   "source": [
    "***EMOTICON PROBLEM***"
   ]
  },
  {
   "cell_type": "code",
   "execution_count": 112,
   "id": "543dad24-ffef-4be1-a106-fa1d5c2d6522",
   "metadata": {},
   "outputs": [
    {
     "data": {
      "text/plain": [
       "'Make me :)'"
      ]
     },
     "execution_count": 112,
     "metadata": {},
     "output_type": "execute_result"
    }
   ],
   "source": [
    "def rep_emoticons(emotify):\n",
    "    # Define emoticons \n",
    "    emoticons = {\n",
    "        'smile': ':)',\n",
    "        'grin': ':D',\n",
    "        'sad': ':(',\n",
    "        'mad': '>:('\n",
    "    }\n",
    "    # Split and then replace words with corresponding emoticons\n",
    "    words = emotify.split()\n",
    "    replaced_words = [emoticons.get(word, word) for word in words]\n",
    "    new_emotify = ' '.join(replaced_words)\n",
    "    \n",
    "    return new_emotify\n",
    "\n",
    "# Example:\n",
    "input_emotify = \"Make me smile\"\n",
    "new_emotify = rep_emoticons(input_emotify)\n",
    "new_emotify\n"
   ]
  },
  {
   "cell_type": "code",
   "execution_count": 129,
   "id": "0a238d05-d2bc-44cd-87ae-809c35bb4ba4",
   "metadata": {},
   "outputs": [
    {
     "data": {
      "text/plain": [
       "'I am >:('"
      ]
     },
     "execution_count": 129,
     "metadata": {},
     "output_type": "execute_result"
    }
   ],
   "source": [
    "def rep_emoticons(emotify):\n",
    "    # Define emoticons \n",
    "    emoticons = {\n",
    "        'smile': ':)',\n",
    "        'grin': ':D',\n",
    "        'sad': ':(',\n",
    "        'mad': '>:('\n",
    "    }\n",
    "    # Split and then replace words with corresponding emoticons\n",
    "    words = emotify.split()\n",
    "    replaced_words = [emoticons.get(word, word) for word in words]\n",
    "    new_emotify = ' '.join(replaced_words)\n",
    "    \n",
    "    return new_emotify\n",
    "\n",
    "# Example:\n",
    "input_emotify = \"I am mad\"\n",
    "new_emotify = rep_emoticons(input_emotify)\n",
    "new_emotify"
   ]
  },
  {
   "cell_type": "markdown",
   "id": "f7162246-dacc-443e-91bc-1ee6d028169f",
   "metadata": {},
   "source": [
    "***UNPACKING LIST PROBLEM***"
   ]
  },
  {
   "cell_type": "code",
   "execution_count": 164,
   "id": "b6de378e-aed6-48df-a47c-db8545e13aff",
   "metadata": {},
   "outputs": [
    {
     "name": "stdout",
     "output_type": "stream",
     "text": [
      "first: 1    middle: [2, 3, 4, 5]    last: 6\n"
     ]
    }
   ],
   "source": [
    "# Define the list\n",
    "writeyourcodehere  = [1,2,3,4,5,6]\n",
    "\n",
    "# Unpack the list\n",
    "first = writeyourcodehere [0]  # The first element\n",
    "middle = writeyourcodehere [1:-1]  # Everything in between the first and last elements\n",
    "last = writeyourcodehere [-1]  # The last element\n",
    "\n",
    "\n",
    "# Print the variables\n",
    "print(f\"first: {first}\" f\"    middle: {middle}\" f\"    last: {last}\")\n",
    "\n"
   ]
  },
  {
   "cell_type": "code",
   "execution_count": null,
   "id": "a293c30c-c282-4687-96fd-9c19d5c18385",
   "metadata": {},
   "outputs": [],
   "source": []
  }
 ],
 "metadata": {
  "kernelspec": {
   "display_name": "Python 3 (ipykernel)",
   "language": "python",
   "name": "python3"
  },
  "language_info": {
   "codemirror_mode": {
    "name": "ipython",
    "version": 3
   },
   "file_extension": ".py",
   "mimetype": "text/x-python",
   "name": "python",
   "nbconvert_exporter": "python",
   "pygments_lexer": "ipython3",
   "version": "3.12.4"
  }
 },
 "nbformat": 4,
 "nbformat_minor": 5
}
